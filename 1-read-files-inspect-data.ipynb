{
 "cells": [
  {
   "cell_type": "markdown",
   "metadata": {},
   "source": [
    "# Part 1: Reading Files and Inspecting Data\n",
    "## Washington DC Taxi Data Exploratory Analysis\n",
    "\n",
    "Created by Joshua Malamud"
   ]
  },
  {
   "cell_type": "markdown",
   "metadata": {},
   "source": [
    "# Table of Contents\n",
    "\n",
    "Download Taxi Data\n",
    "\n",
    "1. Importing Libraries\n",
    "\n",
    "2. Clearing Local Data from Previous Work\n",
    "\n",
    "3. Reading in Data from Local Folder\n",
    "\n",
    "    * Unzipping and reading in data as CSVs to local folder\n",
    "\n",
    "    * \n",
    "\n",
    "5. Conclusion"
   ]
  },
  {
   "cell_type": "code",
   "execution_count": 10,
   "metadata": {},
   "outputs": [],
   "source": [
    "# import libraries\n",
    "import os\n",
    "from pathlib import Path\n",
    "import pandas as pd \n",
    "import urllib\n",
    "import json\n",
    "import zipfile\n",
    "from zipfile import ZipFile\n",
    "import glob\n",
    "import seaborn as sns\n",
    "from openpyxl import Workbook\n",
    "import matplotlib.pyplot as plt\n"
   ]
  },
  {
   "cell_type": "code",
   "execution_count": 11,
   "metadata": {},
   "outputs": [],
   "source": [
    "# clear folder from previous exercises leaving only trip data zip file\n",
    "dir_name = r\"C:\\Users\\Guest.Guest\\OneDrive - Government of The District of Columbia\\Documents\\Projects_JM\\Python\\Projects\\taxi_analysis\\data\"\n",
    "#################################################################################### replace local link with r\"C:\\local-download-folder-path\"\n",
    "folder = os.listdir(dir_name)\n",
    "\n",
    "for item in folder:\n",
    "    if item.endswith(\".csv\") or item.endswith(\".txt\"):\n",
    "        os.remove(os.path.join(dir_name, item))"
   ]
  },
  {
   "cell_type": "code",
   "execution_count": 12,
   "metadata": {},
   "outputs": [
    {
     "name": "stdout",
     "output_type": "stream",
     "text": [
      "['README_DC_Taxicab_trip.txt', 'taxi_202301.csv', 'taxi_202302.csv', 'taxi_202303.csv', 'taxi_202304.csv', 'taxi_202305.csv', 'taxi_202306.csv', 'taxi_202307.csv', 'taxi_202308.csv', 'taxi_202309.csv', 'taxi_202310.csv', 'taxi_202311.csv', 'taxi_202312.csv']\n"
     ]
    }
   ],
   "source": [
    "# assign path to data folder\n",
    "data_path = r\"C:\\Users\\Guest.Guest\\OneDrive - Government of The District of Columbia\\Documents\\Projects_JM\\Python\\Projects\\taxi_analysis\\data\"\n",
    "\n",
    "# file name to download\n",
    "file = \"OpenDataDC_Taxi_2023.zip\"\n",
    "\n",
    "# establish file path\n",
    "fullfilename = os.path.join(data_path, file)\n",
    "\n",
    "# assign ZIP file to variable\n",
    "items = zipfile.ZipFile(fullfilename)\n",
    "\n",
    "# show files in ZIP\n",
    "print(items.namelist())\n",
    "\n",
    "# open ZIP file in read mode and extract all files inside the ZIP file\n",
    "with zipfile.ZipFile(fullfilename, \"r\") as file:\n",
    "    file.extractall(data_path)"
   ]
  },
  {
   "cell_type": "code",
   "execution_count": null,
   "metadata": {},
   "outputs": [
    {
     "name": "stdout",
     "output_type": "stream",
     "text": [
      "Loading C:\\Users\\Guest.Guest\\OneDrive - Government of The District of Columbia\\Documents\\Projects_JM\\Python\\Projects\\taxi_analysis\\data\\taxi_202301.csv\n",
      "Loading C:\\Users\\Guest.Guest\\OneDrive - Government of The District of Columbia\\Documents\\Projects_JM\\Python\\Projects\\taxi_analysis\\data\\taxi_202302.csv\n",
      "Loading C:\\Users\\Guest.Guest\\OneDrive - Government of The District of Columbia\\Documents\\Projects_JM\\Python\\Projects\\taxi_analysis\\data\\taxi_202303.csv\n",
      "Loading C:\\Users\\Guest.Guest\\OneDrive - Government of The District of Columbia\\Documents\\Projects_JM\\Python\\Projects\\taxi_analysis\\data\\taxi_202304.csv\n",
      "Loading C:\\Users\\Guest.Guest\\OneDrive - Government of The District of Columbia\\Documents\\Projects_JM\\Python\\Projects\\taxi_analysis\\data\\taxi_202305.csv\n",
      "Loading C:\\Users\\Guest.Guest\\OneDrive - Government of The District of Columbia\\Documents\\Projects_JM\\Python\\Projects\\taxi_analysis\\data\\taxi_202306.csv\n",
      "Loading C:\\Users\\Guest.Guest\\OneDrive - Government of The District of Columbia\\Documents\\Projects_JM\\Python\\Projects\\taxi_analysis\\data\\taxi_202307.csv\n",
      "Loading C:\\Users\\Guest.Guest\\OneDrive - Government of The District of Columbia\\Documents\\Projects_JM\\Python\\Projects\\taxi_analysis\\data\\taxi_202308.csv\n",
      "Loading C:\\Users\\Guest.Guest\\OneDrive - Government of The District of Columbia\\Documents\\Projects_JM\\Python\\Projects\\taxi_analysis\\data\\taxi_202309.csv\n",
      "Loading C:\\Users\\Guest.Guest\\OneDrive - Government of The District of Columbia\\Documents\\Projects_JM\\Python\\Projects\\taxi_analysis\\data\\taxi_202310.csv\n",
      "Loading C:\\Users\\Guest.Guest\\OneDrive - Government of The District of Columbia\\Documents\\Projects_JM\\Python\\Projects\\taxi_analysis\\data\\taxi_202311.csv\n",
      "Loading C:\\Users\\Guest.Guest\\OneDrive - Government of The District of Columbia\\Documents\\Projects_JM\\Python\\Projects\\taxi_analysis\\data\\taxi_202312.csv\n"
     ]
    },
    {
     "data": {
      "text/plain": [
       "12"
      ]
     },
     "execution_count": 13,
     "metadata": {},
     "output_type": "execute_result"
    }
   ],
   "source": [
    "# load monthly files into a single df and visualize process using glob library\n",
    "all_dfs = []\n",
    "for one_filename in glob.glob(r'C:\\Users\\Guest.Guest\\OneDrive - Government of The District of Columbia\\Documents\\Projects_JM\\Python\\Projects\\taxi_analysis\\data\\taxi*.csv'):\n",
    "    print(f'Loading {one_filename}')\n",
    "    new_df= pd.read_csv(one_filename,\n",
    "# select columns necessary for analysis to consolidate df\n",
    "                 usecols=['OBJECTID', 'ORIGINDATETIME_TR', 'DESTINATIONDATETIME_TR', 'ORIGINZIP', 'DESTINATIONZIP', 'MILEAGE', 'DURATION', 'FAREAMOUNT', 'ORIGIN_BLOCK_LATITUDE', 'ORIGIN_BLOCK_LONGITUDE', 'ORIGINZIP']) \n",
    "    all_dfs.append(new_df)\n",
    "\n",
    "len(all_dfs)"
   ]
  },
  {
   "cell_type": "code",
   "execution_count": 14,
   "metadata": {},
   "outputs": [
    {
     "name": "stdout",
     "output_type": "stream",
     "text": [
      "rows: 3,092,555\n",
      "columns: 7\n"
     ]
    },
    {
     "data": {
      "text/html": [
       "<div>\n",
       "<style scoped>\n",
       "    .dataframe tbody tr th:only-of-type {\n",
       "        vertical-align: middle;\n",
       "    }\n",
       "\n",
       "    .dataframe tbody tr th {\n",
       "        vertical-align: top;\n",
       "    }\n",
       "\n",
       "    .dataframe thead th {\n",
       "        text-align: right;\n",
       "    }\n",
       "</style>\n",
       "<table border=\"1\" class=\"dataframe\">\n",
       "  <thead>\n",
       "    <tr style=\"text-align: right;\">\n",
       "      <th></th>\n",
       "      <th>OBJECTID</th>\n",
       "      <th>ORIGINZIP</th>\n",
       "      <th>DESTINATIONZIP</th>\n",
       "      <th>MILEAGE</th>\n",
       "      <th>DURATION</th>\n",
       "      <th>ORIGINDATETIME_TR</th>\n",
       "      <th>DESTINATIONDATETIME_TR</th>\n",
       "    </tr>\n",
       "  </thead>\n",
       "  <tbody>\n",
       "    <tr>\n",
       "      <th>0</th>\n",
       "      <td>1</td>\n",
       "      <td>2DA</td>\n",
       "      <td>22202</td>\n",
       "      <td>5.76000</td>\n",
       "      <td>852.0</td>\n",
       "      <td>01/01/2023 00:00</td>\n",
       "      <td>01/01/2023 00:00</td>\n",
       "    </tr>\n",
       "    <tr>\n",
       "      <th>1</th>\n",
       "      <td>2</td>\n",
       "      <td>20011</td>\n",
       "      <td>20011</td>\n",
       "      <td>3.11000</td>\n",
       "      <td>650.0</td>\n",
       "      <td>01/01/2023 00:00</td>\n",
       "      <td>01/01/2023 00:00</td>\n",
       "    </tr>\n",
       "    <tr>\n",
       "      <th>2</th>\n",
       "      <td>3</td>\n",
       "      <td>20001</td>\n",
       "      <td>20007</td>\n",
       "      <td>4.80000</td>\n",
       "      <td>539.0</td>\n",
       "      <td>01/01/2023 00:00</td>\n",
       "      <td>01/01/2023 00:00</td>\n",
       "    </tr>\n",
       "    <tr>\n",
       "      <th>3</th>\n",
       "      <td>4</td>\n",
       "      <td>20005</td>\n",
       "      <td>20024</td>\n",
       "      <td>2.68000</td>\n",
       "      <td>1187.0</td>\n",
       "      <td>01/01/2023 00:00</td>\n",
       "      <td>01/01/2023 00:00</td>\n",
       "    </tr>\n",
       "    <tr>\n",
       "      <th>4</th>\n",
       "      <td>5</td>\n",
       "      <td>20001</td>\n",
       "      <td>20002</td>\n",
       "      <td>5.76000</td>\n",
       "      <td>876.0</td>\n",
       "      <td>01/01/2023 00:00</td>\n",
       "      <td>01/01/2023 00:00</td>\n",
       "    </tr>\n",
       "    <tr>\n",
       "      <th>...</th>\n",
       "      <td>...</td>\n",
       "      <td>...</td>\n",
       "      <td>...</td>\n",
       "      <td>...</td>\n",
       "      <td>...</td>\n",
       "      <td>...</td>\n",
       "      <td>...</td>\n",
       "    </tr>\n",
       "    <tr>\n",
       "      <th>199303</th>\n",
       "      <td>199304</td>\n",
       "      <td>20004</td>\n",
       "      <td>20011</td>\n",
       "      <td>9.63000</td>\n",
       "      <td>3024.0</td>\n",
       "      <td>12/31/2023 23:00</td>\n",
       "      <td>01/01/2024 00:00</td>\n",
       "    </tr>\n",
       "    <tr>\n",
       "      <th>199304</th>\n",
       "      <td>199305</td>\n",
       "      <td>20002</td>\n",
       "      <td>20002</td>\n",
       "      <td>0.00000</td>\n",
       "      <td>106.0</td>\n",
       "      <td>12/31/2023 23:00</td>\n",
       "      <td>12/31/2023 23:00</td>\n",
       "    </tr>\n",
       "    <tr>\n",
       "      <th>199305</th>\n",
       "      <td>199306</td>\n",
       "      <td>20002</td>\n",
       "      <td>20037</td>\n",
       "      <td>2.73000</td>\n",
       "      <td>1078.0</td>\n",
       "      <td>12/31/2023 23:00</td>\n",
       "      <td>12/31/2023 23:00</td>\n",
       "    </tr>\n",
       "    <tr>\n",
       "      <th>199306</th>\n",
       "      <td>199307</td>\n",
       "      <td>20002</td>\n",
       "      <td>20010</td>\n",
       "      <td>3.54000</td>\n",
       "      <td>1269.0</td>\n",
       "      <td>12/31/2023 23:00</td>\n",
       "      <td>01/01/2024 00:00</td>\n",
       "    </tr>\n",
       "    <tr>\n",
       "      <th>199307</th>\n",
       "      <td>199308</td>\n",
       "      <td>20005</td>\n",
       "      <td>20009</td>\n",
       "      <td>0.97884</td>\n",
       "      <td>9.0</td>\n",
       "      <td>12/31/2023 23:00</td>\n",
       "      <td>12/31/2023 23:00</td>\n",
       "    </tr>\n",
       "  </tbody>\n",
       "</table>\n",
       "<p>3092555 rows × 7 columns</p>\n",
       "</div>"
      ],
      "text/plain": [
       "        OBJECTID ORIGINZIP DESTINATIONZIP  MILEAGE  DURATION  \\\n",
       "0              1     2DA            22202  5.76000     852.0   \n",
       "1              2     20011          20011  3.11000     650.0   \n",
       "2              3     20001          20007  4.80000     539.0   \n",
       "3              4     20005          20024  2.68000    1187.0   \n",
       "4              5     20001          20002  5.76000     876.0   \n",
       "...          ...       ...            ...      ...       ...   \n",
       "199303    199304     20004          20011  9.63000    3024.0   \n",
       "199304    199305     20002          20002  0.00000     106.0   \n",
       "199305    199306     20002          20037  2.73000    1078.0   \n",
       "199306    199307     20002          20010  3.54000    1269.0   \n",
       "199307    199308     20005          20009  0.97884       9.0   \n",
       "\n",
       "       ORIGINDATETIME_TR DESTINATIONDATETIME_TR  \n",
       "0       01/01/2023 00:00       01/01/2023 00:00  \n",
       "1       01/01/2023 00:00       01/01/2023 00:00  \n",
       "2       01/01/2023 00:00       01/01/2023 00:00  \n",
       "3       01/01/2023 00:00       01/01/2023 00:00  \n",
       "4       01/01/2023 00:00       01/01/2023 00:00  \n",
       "...                  ...                    ...  \n",
       "199303  12/31/2023 23:00       01/01/2024 00:00  \n",
       "199304  12/31/2023 23:00       12/31/2023 23:00  \n",
       "199305  12/31/2023 23:00       12/31/2023 23:00  \n",
       "199306  12/31/2023 23:00       01/01/2024 00:00  \n",
       "199307  12/31/2023 23:00       12/31/2023 23:00  \n",
       "\n",
       "[3092555 rows x 7 columns]"
      ]
     },
     "execution_count": 14,
     "metadata": {},
     "output_type": "execute_result"
    }
   ],
   "source": [
    "# combine multiple dataframes into one and preview data\n",
    "taxi_trips = pd.concat(all_dfs)\n",
    "\n",
    "rows, columns = taxi_trips.shape\n",
    "print('rows: {:,}\\ncolumns: {}'.format(rows, columns))\n",
    "\n",
    "taxi_trips"
   ]
  },
  {
   "cell_type": "code",
   "execution_count": 15,
   "metadata": {},
   "outputs": [
    {
     "name": "stdout",
     "output_type": "stream",
     "text": [
      "OBJECTID                  0.000000\n",
      "ORIGINZIP                 0.000000\n",
      "DESTINATIONZIP            0.000000\n",
      "MILEAGE                   0.000000\n",
      "DURATION                  0.000776\n",
      "ORIGINDATETIME_TR         0.000000\n",
      "DESTINATIONDATETIME_TR    0.000000\n",
      "dtype: float64\n"
     ]
    },
    {
     "data": {
      "image/png": "[encoded data removed]",
      "text/plain": [
       "<Figure size 640x480 with 1 Axes>"
      ]
     },
     "metadata": {},
     "output_type": "display_data"
    }
   ],
   "source": [
    "# find missing values, shown as percentage\n",
    "sns.heatmap(taxi_trips.isnull(), yticklabels=False, cbar=False, cmap=\"viridis\")\n",
    "# visualize missing values as heatmap to show where nulls fall througout date range\n",
    "print((taxi_trips.isnull().sum() / len(taxi_trips.index)) * 100)"
   ]
  },
  {
   "cell_type": "code",
   "execution_count": 16,
   "metadata": {},
   "outputs": [
    {
     "data": {
      "image/png": "[encoded data removed]",
      "text/plain": [
       "<Figure size 600x400 with 2 Axes>"
      ]
     },
     "metadata": {},
     "output_type": "display_data"
    }
   ],
   "source": [
    "# display field correlation as heat map and display blank cell if all column values are null\n",
    "fig, ax = plt.subplots(figsize=(6, 4))\n",
    "\n",
    "sns.heatmap(\n",
    "    taxi_trips.corr(numeric_only=True), \n",
    "    annot=True, \n",
    "    ax=ax\n",
    ")\n",
    "\n",
    "plt.tight_layout()"
   ]
  }
 ],
 "metadata": {
  "kernelspec": {
   "display_name": "Python 3",
   "language": "python",
   "name": "python3"
  },
  "language_info": {
   "codemirror_mode": {
    "name": "ipython",
    "version": 3
   },
   "file_extension": ".py",
   "mimetype": "text/x-python",
   "name": "python",
   "nbconvert_exporter": "python",
   "pygments_lexer": "ipython3",
   "version": "3.11.9"
  }
 },
 "nbformat": 4,
 "nbformat_minor": 2
}
