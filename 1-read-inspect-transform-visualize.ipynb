{
 "cells": [
  {
   "cell_type": "code",
   "execution_count": 6,
   "metadata": {},
   "outputs": [],
   "source": [
    "# import libraries\n",
    "import os\n",
    "from pathlib import Path\n",
    "import pandas as pd \n",
    "import seaborn as sns\n",
    "import urllib\n",
    "import json\n",
    "import zipfile\n",
    "from zipfile import ZipFile\n",
    "from openpyxl import Workbook\n",
    "import geopandas as gpd\n",
    "import matplotlib\n",
    "import matplotlib.pyplot as plt\n",
    "import matplotlib.ticker as ticker"
   ]
  },
  {
   "cell_type": "code",
   "execution_count": 7,
   "metadata": {},
   "outputs": [],
   "source": [
    "# clear folder from previous exercises leaving only trip data zip file\n",
    "dir_name = r'C:\\Users\\Guest.Guest\\OneDrive - Government of The District of Columbia\\Documents\\Projects_JM\\Python\\Projects\\taxi_analysis\\data'\n",
    "folder = os.listdir(dir_name)\n",
    "\n",
    "for item in folder:\n",
    "    if item.endswith('.csv') or item.endswith('.txt'):\n",
    "        os.remove(os.path.join(dir_name, item))"
   ]
  },
  {
   "cell_type": "code",
   "execution_count": 8,
   "metadata": {},
   "outputs": [
    {
     "name": "stdout",
     "output_type": "stream",
     "text": [
      "['taxi_2019_06.txt', 'taxi_2019_01.txt', 'taxi_2019_02.txt', 'taxi_2019_03.txt', 'taxi_2019_04.txt', 'taxi_2019_05.txt', 'README_DC_Taxicab_trip.txt', 'taxi_2019_07.csv', 'taxi_2019_08.csv', 'taxi_2019_09.csv', 'taxi_2019_10.csv', 'taxi_2019_11.csv', 'taxi_2019_12.csv']\n"
     ]
    }
   ],
   "source": [
    "# assign path to data folder \n",
    "data_path = r'C:\\Users\\Guest.Guest\\OneDrive - Government of The District of Columbia\\Documents\\Projects_JM\\Python\\Projects\\taxi_analysis\\data'\n",
    "\n",
    "# file name to download\n",
    "file = 'OpenDataDC_Taxi_2019.zip'\n",
    "\n",
    "# establish file path\n",
    "fullfilename = os.path.join(data_path, file)\n",
    "\n",
    "# assign ZIP file to variable\n",
    "items = zipfile.ZipFile(fullfilename)\n",
    "\n",
    "# show files in ZIP\n",
    "print(items.namelist())\n",
    "\n",
    "# opening ZIP file in read mode\n",
    "with zipfile.ZipFile(fullfilename, 'r') as file:\n",
    "    \n",
    "    # extract all files inside the ZIP file\n",
    "    file.extractall(data_path)"
   ]
  },
  {
   "cell_type": "code",
   "execution_count": null,
   "metadata": {},
   "outputs": [
    {
     "name": "stderr",
     "output_type": "stream",
     "text": [
      "C:\\Users\\Guest.Guest\\AppData\\Local\\Temp\\ipykernel_7680\\4024094133.py:12: DtypeWarning: Columns (12) have mixed types. Specify dtype option on import or set low_memory=False.\n",
      "  df = pd.read_csv(filename, sep='|')\n"
     ]
    }
   ],
   "source": [
    "# convert txt files to csv (download folder contains both txt and csv files)\n",
    "import fnmatch\n",
    "\n",
    "data_path = r'C:\\Users\\Guest.Guest\\OneDrive - Government of The District of Columbia\\Documents\\Projects_JM\\Python\\Projects\\taxi_analysis\\data'\n",
    "files = os.listdir(data_path) \n",
    "\n",
    "for file in files:\n",
    "    if fnmatch.fnmatch(file, 'taxi*'):\n",
    "        extension = os.path.splitext(file)[1]\n",
    "        if extension =='.txt':\n",
    "            filename = os.path.join(data_path, file)\n",
    "            df = pd.read_csv(filename, sep='|')\n",
    "            new_filename = os.path.splitext(filename)[0] + '.csv'\n",
    "            df.to_csv(new_filename, index=False)"
   ]
  },
  {
   "cell_type": "code",
   "execution_count": null,
   "metadata": {},
   "outputs": [
    {
     "name": "stdout",
     "output_type": "stream",
     "text": [
      "Loading C:\\Users\\Guest.Guest\\OneDrive - Government of The District of Columbia\\Documents\\Projects_JM\\Python\\Projects\\taxi_analysis\\data\\taxi_2019_01.csv\n",
      "Loading C:\\Users\\Guest.Guest\\OneDrive - Government of The District of Columbia\\Documents\\Projects_JM\\Python\\Projects\\taxi_analysis\\data\\taxi_2019_02.csv\n",
      "Loading C:\\Users\\Guest.Guest\\OneDrive - Government of The District of Columbia\\Documents\\Projects_JM\\Python\\Projects\\taxi_analysis\\data\\taxi_2019_03.csv\n",
      "Loading C:\\Users\\Guest.Guest\\OneDrive - Government of The District of Columbia\\Documents\\Projects_JM\\Python\\Projects\\taxi_analysis\\data\\taxi_2019_04.csv\n"
     ]
    },
    {
     "name": "stderr",
     "output_type": "stream",
     "text": [
      "C:\\Users\\Guest.Guest\\AppData\\Local\\Temp\\ipykernel_7680\\2309170235.py:6: DtypeWarning: Columns (12) have mixed types. Specify dtype option on import or set low_memory=False.\n",
      "  new_df= pd.read_csv(one_filename,\n"
     ]
    },
    {
     "name": "stdout",
     "output_type": "stream",
     "text": [
      "Loading C:\\Users\\Guest.Guest\\OneDrive - Government of The District of Columbia\\Documents\\Projects_JM\\Python\\Projects\\taxi_analysis\\data\\taxi_2019_05.csv\n",
      "Loading C:\\Users\\Guest.Guest\\OneDrive - Government of The District of Columbia\\Documents\\Projects_JM\\Python\\Projects\\taxi_analysis\\data\\taxi_2019_06.csv\n",
      "Loading C:\\Users\\Guest.Guest\\OneDrive - Government of The District of Columbia\\Documents\\Projects_JM\\Python\\Projects\\taxi_analysis\\data\\taxi_2019_07.csv\n",
      "Loading C:\\Users\\Guest.Guest\\OneDrive - Government of The District of Columbia\\Documents\\Projects_JM\\Python\\Projects\\taxi_analysis\\data\\taxi_2019_08.csv\n",
      "Loading C:\\Users\\Guest.Guest\\OneDrive - Government of The District of Columbia\\Documents\\Projects_JM\\Python\\Projects\\taxi_analysis\\data\\taxi_2019_09.csv\n",
      "Loading C:\\Users\\Guest.Guest\\OneDrive - Government of The District of Columbia\\Documents\\Projects_JM\\Python\\Projects\\taxi_analysis\\data\\taxi_2019_10.csv\n",
      "Loading C:\\Users\\Guest.Guest\\OneDrive - Government of The District of Columbia\\Documents\\Projects_JM\\Python\\Projects\\taxi_analysis\\data\\taxi_2019_11.csv\n",
      "Loading C:\\Users\\Guest.Guest\\OneDrive - Government of The District of Columbia\\Documents\\Projects_JM\\Python\\Projects\\taxi_analysis\\data\\taxi_2019_12.csv\n"
     ]
    },
    {
     "data": {
      "text/plain": [
       "12"
      ]
     },
     "execution_count": 10,
     "metadata": {},
     "output_type": "execute_result"
    }
   ],
   "source": [
    "# load monthly files into a single df and visualize process using glob library\n",
    "import glob\n",
    "all_dfs = []\n",
    "for one_filename in glob.glob(r'C:\\Users\\Guest.Guest\\OneDrive - Government of The District of Columbia\\Documents\\Projects_JM\\Python\\Projects\\taxi_analysis\\data\\taxi*.csv'):\n",
    "    print(f'Loading {one_filename}')\n",
    "    new_df= pd.read_csv(one_filename,\n",
    "                 usecols=['OBJECTID', 'ORIGINDATETIME_TR', 'DESTINATIONDATETIME_TR', 'ORIGINZIP', 'DESTINATIONZIP', 'MILEAGE', 'DURATION', 'FAREAMOUNT', 'ORIGIN_BLOCK_LATITUDE', 'ORIGIN_BLOCK_LONGITUDE', 'ORIGINZIP']) \n",
    "    all_dfs.append(new_df)\n",
    "\n",
    "len(all_dfs)"
   ]
  },
  {
   "cell_type": "code",
   "execution_count": 12,
   "metadata": {},
   "outputs": [
    {
     "name": "stdout",
     "output_type": "stream",
     "text": [
      "rows: 8,652,721\n",
      "columns: 10\n"
     ]
    },
    {
     "data": {
      "text/html": [
       "<div>\n",
       "<style scoped>\n",
       "    .dataframe tbody tr th:only-of-type {\n",
       "        vertical-align: middle;\n",
       "    }\n",
       "\n",
       "    .dataframe tbody tr th {\n",
       "        vertical-align: top;\n",
       "    }\n",
       "\n",
       "    .dataframe thead th {\n",
       "        text-align: right;\n",
       "    }\n",
       "</style>\n",
       "<table border=\"1\" class=\"dataframe\">\n",
       "  <thead>\n",
       "    <tr style=\"text-align: right;\">\n",
       "      <th></th>\n",
       "      <th>OBJECTID</th>\n",
       "      <th>FAREAMOUNT</th>\n",
       "      <th>ORIGINZIP</th>\n",
       "      <th>DESTINATIONZIP</th>\n",
       "      <th>MILEAGE</th>\n",
       "      <th>DURATION</th>\n",
       "      <th>ORIGIN_BLOCK_LATITUDE</th>\n",
       "      <th>ORIGIN_BLOCK_LONGITUDE</th>\n",
       "      <th>ORIGINDATETIME_TR</th>\n",
       "      <th>DESTINATIONDATETIME_TR</th>\n",
       "    </tr>\n",
       "  </thead>\n",
       "  <tbody>\n",
       "    <tr>\n",
       "      <th>0</th>\n",
       "      <td>48252809</td>\n",
       "      <td>15.94</td>\n",
       "      <td>20006</td>\n",
       "      <td>22202</td>\n",
       "      <td>5.19</td>\n",
       "      <td>879</td>\n",
       "      <td>38.900213</td>\n",
       "      <td>-77.040574</td>\n",
       "      <td>01/01/2019 15:00</td>\n",
       "      <td>01/01/2019 15:00</td>\n",
       "    </tr>\n",
       "    <tr>\n",
       "      <th>1</th>\n",
       "      <td>48252810</td>\n",
       "      <td>73.45</td>\n",
       "      <td>20007</td>\n",
       "      <td>20152</td>\n",
       "      <td>31.43</td>\n",
       "      <td>2735</td>\n",
       "      <td>38.907217</td>\n",
       "      <td>-77.063241</td>\n",
       "      <td>01/01/2019 15:00</td>\n",
       "      <td>01/01/2019 16:00</td>\n",
       "    </tr>\n",
       "    <tr>\n",
       "      <th>2</th>\n",
       "      <td>48252811</td>\n",
       "      <td>6.49</td>\n",
       "      <td>20037</td>\n",
       "      <td>20007</td>\n",
       "      <td>1.23</td>\n",
       "      <td>363</td>\n",
       "      <td>38.909637</td>\n",
       "      <td>-77.047716</td>\n",
       "      <td>01/01/2019 15:00</td>\n",
       "      <td>01/01/2019 15:00</td>\n",
       "    </tr>\n",
       "    <tr>\n",
       "      <th>3</th>\n",
       "      <td>48252812</td>\n",
       "      <td>17.29</td>\n",
       "      <td>20009</td>\n",
       "      <td>22202</td>\n",
       "      <td>6.13</td>\n",
       "      <td>946</td>\n",
       "      <td>38.920843</td>\n",
       "      <td>-77.031850</td>\n",
       "      <td>01/01/2019 15:00</td>\n",
       "      <td>01/01/2019 15:00</td>\n",
       "    </tr>\n",
       "    <tr>\n",
       "      <th>4</th>\n",
       "      <td>48252813</td>\n",
       "      <td>45.37</td>\n",
       "      <td>-</td>\n",
       "      <td>22202</td>\n",
       "      <td>0.00</td>\n",
       "      <td>0</td>\n",
       "      <td>NaN</td>\n",
       "      <td>NaN</td>\n",
       "      <td>01/01/2019 15:00</td>\n",
       "      <td>01/01/2019 15:00</td>\n",
       "    </tr>\n",
       "  </tbody>\n",
       "</table>\n",
       "</div>"
      ],
      "text/plain": [
       "   OBJECTID  FAREAMOUNT ORIGINZIP DESTINATIONZIP  MILEAGE  DURATION  \\\n",
       "0  48252809       15.94     20006          22202     5.19       879   \n",
       "1  48252810       73.45     20007          20152    31.43      2735   \n",
       "2  48252811        6.49     20037          20007     1.23       363   \n",
       "3  48252812       17.29     20009          22202     6.13       946   \n",
       "4  48252813       45.37         -          22202     0.00         0   \n",
       "\n",
       "   ORIGIN_BLOCK_LATITUDE  ORIGIN_BLOCK_LONGITUDE ORIGINDATETIME_TR  \\\n",
       "0              38.900213              -77.040574  01/01/2019 15:00   \n",
       "1              38.907217              -77.063241  01/01/2019 15:00   \n",
       "2              38.909637              -77.047716  01/01/2019 15:00   \n",
       "3              38.920843              -77.031850  01/01/2019 15:00   \n",
       "4                    NaN                     NaN  01/01/2019 15:00   \n",
       "\n",
       "  DESTINATIONDATETIME_TR  \n",
       "0       01/01/2019 15:00  \n",
       "1       01/01/2019 16:00  \n",
       "2       01/01/2019 15:00  \n",
       "3       01/01/2019 15:00  \n",
       "4       01/01/2019 15:00  "
      ]
     },
     "execution_count": 12,
     "metadata": {},
     "output_type": "execute_result"
    }
   ],
   "source": [
    "# combine multiple dataframes into one and preview data\n",
    "taxi_trips = pd.concat(all_dfs)\n",
    "\n",
    "rows, columns = taxi_trips.shape\n",
    "print('rows: {:,}\\ncolumns: {}'.format(rows, columns))\n",
    "\n",
    "taxi_trips.head()"
   ]
  },
  {
   "cell_type": "code",
   "execution_count": 13,
   "metadata": {},
   "outputs": [
    {
     "name": "stdout",
     "output_type": "stream",
     "text": [
      "        OBJECTID  FAREAMOUNT ORIGINZIP DESTINATIONZIP  MILEAGE  DURATION  \\\n",
      "124795  48413189       11.89     20009          22209      3.7       660   \n",
      "\n",
      "        ORIGIN_BLOCK_LATITUDE  ORIGIN_BLOCK_LONGITUDE ORIGINDATETIME_TR  \\\n",
      "124795              38.913345              -77.045589  01/01/2019 00:00   \n",
      "\n",
      "       DESTINATIONDATETIME_TR  \n",
      "124795       01/01/2019 00:00  \n",
      "        OBJECTID  FAREAMOUNT ORIGINZIP DESTINATIONZIP  MILEAGE  DURATION  \\\n",
      "574399    574400        9.19     20007          20036     1.48       734   \n",
      "\n",
      "        ORIGIN_BLOCK_LATITUDE  ORIGIN_BLOCK_LONGITUDE ORIGINDATETIME_TR  \\\n",
      "574399              38.902592              -77.061945  12/31/2019 23:00   \n",
      "\n",
      "       DESTINATIONDATETIME_TR  \n",
      "574399       12/31/2019 23:00  \n"
     ]
    }
   ],
   "source": [
    "# check for earliest trip\n",
    "earliest = (\n",
    "    taxi_trips\n",
    "    .sort_values(by='ORIGINDATETIME_TR')\n",
    "    .head(1)\n",
    ")\n",
    "\n",
    "print(earliest)\n",
    "\n",
    "# check for most recent trip\n",
    "latest = (\n",
    "    taxi_trips\n",
    "    .sort_values(by='ORIGINDATETIME_TR', ascending= False) \n",
    "    .head(1)\n",
    ")\n",
    "\n",
    "print(latest)"
   ]
  }
 ],
 "metadata": {
  "kernelspec": {
   "display_name": "Python 3",
   "language": "python",
   "name": "python3"
  },
  "language_info": {
   "codemirror_mode": {
    "name": "ipython",
    "version": 3
   },
   "file_extension": ".py",
   "mimetype": "text/x-python",
   "name": "python",
   "nbconvert_exporter": "python",
   "pygments_lexer": "ipython3",
   "version": "3.11.9"
  }
 },
 "nbformat": 4,
 "nbformat_minor": 2
}
