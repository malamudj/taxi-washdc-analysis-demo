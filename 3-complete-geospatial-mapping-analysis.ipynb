{
 "cells": [
  {
   "cell_type": "markdown",
   "metadata": {},
   "source": [
    "# Part 3: Completing Geospatial Mapping Analysis\n",
    "## Washington DC Taxi Data Exploratory Analysis\n",
    "\n",
    "Created by Joshua Malamud"
   ]
  },
  {
   "cell_type": "markdown",
   "metadata": {},
   "source": [
    "# Table of Contents\n",
    "\n",
    "Download Taxi Data\n",
    "\n",
    "1. Import Libraries\n",
    "\n",
    "2. Clear Local Data from Previous Project Iteration\n",
    "\n",
    "3. Read in Data from Local Folder\n",
    "\n",
    "    * 3.1 Unzip and Read in Data to Local Folder\n",
    "\n",
    "    * 3.2 Load Multiple Files into Single Dataframe\n",
    "\n",
    "    * 3.3 Combine Monthly Trips into Concatenated Dataframe\n",
    "\n",
    "4. Inspect and Clean Data for Geospatial Analysis\n",
    "\n",
    "5. Transform Data for Temporal Analysis\n",
    "\n",
    "    * 5.1 Convert Timestamp Field to Date Time Format\n",
    "\n",
    "    * 5.2 Extract Date and Time Dimensions\n",
    "\n",
    "6. Create Mapping to Reveal Spatial Trends\n",
    "\n",
    "    * 6.1 Map Long trips for a Single Month\n",
    "\n",
    "    * 6.2 Map Local Late Night Trips by Zip Code\n",
    "\n",
    "6. Conclusion"
   ]
  },
  {
   "cell_type": "markdown",
   "metadata": {},
   "source": [
    "**Primary Libraries:** <br>Pandas used to read in and manipulate open source data. Geopandas used to project geospatial data."
   ]
  },
  {
   "cell_type": "markdown",
   "metadata": {},
   "source": [
    "# Download Taxi Data\n",
    "Monthly taxi data is available through the [Open Data DC portal](https://opendata.dc.gov/) going back to 2018. Search for \"taxi trips in 2023\" to download a zip file with monthly taxi trips for 2023. \n",
    "<br><br>![image](images/1.open-data-dc-taxi-trips-2023.PNG)\n",
    "\n",
    "Selecting **Taxi Trips in 2023** will route you to a Box download page and you can select **Download** to download a zip file to your local downloads folder.\n",
    "<br><br>![image](images/2.trips-download-file.PNG)\n",
    "<br><br>Move downloaded zip file to desired project folder for data analysis.\n",
    "\n"
   ]
  },
  {
   "cell_type": "markdown",
   "metadata": {},
   "source": [
    "# 1. Import Libraries"
   ]
  },
  {
   "cell_type": "code",
   "execution_count": 52,
   "metadata": {},
   "outputs": [],
   "source": [
    "# importing libraries\n",
    "import os\n",
    "from pathlib import Path\n",
    "import pandas as pd \n",
    "import seaborn as sns\n",
    "import urllib\n",
    "import json\n",
    "import zipfile\n",
    "from zipfile import ZipFile\n",
    "from openpyxl import Workbook\n",
    "import glob\n",
    "import geopandas as gpd\n",
    "import matplotlib\n",
    "import matplotlib.pyplot as plt\n",
    "import matplotlib.ticker as ticker\n",
    "from mpl_toolkits.axes_grid1 import make_axes_locatable\n"
   ]
  },
  {
   "cell_type": "markdown",
   "metadata": {},
   "source": [
    "# 2. Clear Local Data from Previous Project Iteration"
   ]
  },
  {
   "cell_type": "code",
   "execution_count": 53,
   "metadata": {},
   "outputs": [],
   "source": [
    "# clear folder from previous exercises leaving only trip data zip file\n",
    "dir_name = r\"C:\\Users\\Guest.Guest\\OneDrive - Government of The District of Columbia\\Documents\\Projects_JM\\Python\\Projects\\taxi_analysis\\data\"\n",
    "folder = os.listdir(dir_name)\n",
    "\n",
    "for item in folder:\n",
    "    if item.endswith(\".csv\") or item.endswith(\".txt\"):\n",
    "        os.remove(os.path.join(dir_name, item))"
   ]
  },
  {
   "cell_type": "markdown",
   "metadata": {},
   "source": [
    "# 3. Read in Data from Local Folder\n",
    "## 3.1 Unzip and Read in Data to Local Folder"
   ]
  },
  {
   "cell_type": "code",
   "execution_count": 54,
   "metadata": {},
   "outputs": [
    {
     "name": "stdout",
     "output_type": "stream",
     "text": [
      "['README_DC_Taxicab_trip.txt', 'taxi_202301.csv', 'taxi_202302.csv', 'taxi_202303.csv', 'taxi_202304.csv', 'taxi_202305.csv', 'taxi_202306.csv', 'taxi_202307.csv', 'taxi_202308.csv', 'taxi_202309.csv', 'taxi_202310.csv', 'taxi_202311.csv', 'taxi_202312.csv']\n"
     ]
    }
   ],
   "source": [
    "# assign path to data folder\n",
    "data_path = r\"C:\\Users\\Guest.Guest\\OneDrive - Government of The District of Columbia\\Documents\\Projects_JM\\Python\\Projects\\taxi_analysis\\data\"\n",
    "\n",
    "# file name to download\n",
    "file = \"OpenDataDC_Taxi_2023.zip\"\n",
    "\n",
    "# establish file path\n",
    "fullfilename = os.path.join(data_path, file)\n",
    "\n",
    "# assign ZIP file to variable\n",
    "items = zipfile.ZipFile(fullfilename)\n",
    "\n",
    "# show files in ZIP\n",
    "print(items.namelist())\n",
    "\n",
    "# open ZIP file in read mode and extract all files inside the ZIP file\n",
    "with zipfile.ZipFile(fullfilename, \"r\") as file:\n",
    "    file.extractall(data_path)"
   ]
  },
  {
   "cell_type": "markdown",
   "metadata": {},
   "source": [
    "## 3.2 Load Multiple Files into Single Dataframe"
   ]
  },
  {
   "cell_type": "code",
   "execution_count": 55,
   "metadata": {},
   "outputs": [
    {
     "data": {
      "text/plain": [
       "12"
      ]
     },
     "execution_count": 55,
     "metadata": {},
     "output_type": "execute_result"
    }
   ],
   "source": [
    "# load monthly files into a single df and visualize process using glob library\n",
    "all_dfs = []\n",
    "for one_filename in glob.glob(r'C:\\Users\\Guest.Guest\\OneDrive - Government of The District of Columbia\\Documents\\Projects_JM\\Python\\Projects\\taxi_analysis\\data\\taxi*.csv'):\n",
    "    #print(f'Loading {one_filename}')\n",
    "    new_df= pd.read_csv(one_filename,\n",
    "# select columns necessary for analysis to consolidate df\n",
    "                 usecols=['OBJECTID', 'ORIGINDATETIME_TR', 'DESTINATIONDATETIME_TR', 'ORIGINZIP', 'DESTINATIONZIP', 'MILEAGE', 'DURATION', 'FAREAMOUNT', 'ORIGIN_BLOCK_LATITUDE', 'ORIGIN_BLOCK_LONGITUDE', 'ORIGINZIP']) \n",
    "    all_dfs.append(new_df)\n",
    "\n",
    "len(all_dfs)"
   ]
  },
  {
   "cell_type": "markdown",
   "metadata": {},
   "source": [
    "## 3.3 Combine Monthly Trips into Concatenated Dataframe"
   ]
  },
  {
   "cell_type": "code",
   "execution_count": 56,
   "metadata": {},
   "outputs": [
    {
     "name": "stdout",
     "output_type": "stream",
     "text": [
      "rows: 3,092,555\n",
      "columns: 10\n"
     ]
    },
    {
     "data": {
      "text/html": [
       "<div>\n",
       "<style scoped>\n",
       "    .dataframe tbody tr th:only-of-type {\n",
       "        vertical-align: middle;\n",
       "    }\n",
       "\n",
       "    .dataframe tbody tr th {\n",
       "        vertical-align: top;\n",
       "    }\n",
       "\n",
       "    .dataframe thead th {\n",
       "        text-align: right;\n",
       "    }\n",
       "</style>\n",
       "<table border=\"1\" class=\"dataframe\">\n",
       "  <thead>\n",
       "    <tr style=\"text-align: right;\">\n",
       "      <th></th>\n",
       "      <th>OBJECTID</th>\n",
       "      <th>FAREAMOUNT</th>\n",
       "      <th>ORIGINZIP</th>\n",
       "      <th>DESTINATIONZIP</th>\n",
       "      <th>MILEAGE</th>\n",
       "      <th>DURATION</th>\n",
       "      <th>ORIGIN_BLOCK_LATITUDE</th>\n",
       "      <th>ORIGIN_BLOCK_LONGITUDE</th>\n",
       "      <th>ORIGINDATETIME_TR</th>\n",
       "      <th>DESTINATIONDATETIME_TR</th>\n",
       "    </tr>\n",
       "  </thead>\n",
       "  <tbody>\n",
       "    <tr>\n",
       "      <th>0</th>\n",
       "      <td>1</td>\n",
       "      <td>15.79</td>\n",
       "      <td>2DA</td>\n",
       "      <td>22202</td>\n",
       "      <td>5.76000</td>\n",
       "      <td>852.0</td>\n",
       "      <td>38.896733</td>\n",
       "      <td>-77.009058</td>\n",
       "      <td>01/01/2023 00:00</td>\n",
       "      <td>01/01/2023 00:00</td>\n",
       "    </tr>\n",
       "    <tr>\n",
       "      <th>1</th>\n",
       "      <td>2</td>\n",
       "      <td>10.81</td>\n",
       "      <td>20011</td>\n",
       "      <td>20011</td>\n",
       "      <td>3.11000</td>\n",
       "      <td>650.0</td>\n",
       "      <td>38.952536</td>\n",
       "      <td>-77.003107</td>\n",
       "      <td>01/01/2023 00:00</td>\n",
       "      <td>01/01/2023 00:00</td>\n",
       "    </tr>\n",
       "    <tr>\n",
       "      <th>2</th>\n",
       "      <td>3</td>\n",
       "      <td>13.51</td>\n",
       "      <td>20001</td>\n",
       "      <td>20007</td>\n",
       "      <td>4.80000</td>\n",
       "      <td>539.0</td>\n",
       "      <td>NaN</td>\n",
       "      <td>NaN</td>\n",
       "      <td>01/01/2023 00:00</td>\n",
       "      <td>01/01/2023 00:00</td>\n",
       "    </tr>\n",
       "    <tr>\n",
       "      <th>3</th>\n",
       "      <td>4</td>\n",
       "      <td>12.97</td>\n",
       "      <td>20005</td>\n",
       "      <td>20024</td>\n",
       "      <td>2.68000</td>\n",
       "      <td>1187.0</td>\n",
       "      <td>38.901925</td>\n",
       "      <td>-77.033638</td>\n",
       "      <td>01/01/2023 00:00</td>\n",
       "      <td>01/01/2023 00:00</td>\n",
       "    </tr>\n",
       "    <tr>\n",
       "      <th>4</th>\n",
       "      <td>5</td>\n",
       "      <td>16.48</td>\n",
       "      <td>20001</td>\n",
       "      <td>20002</td>\n",
       "      <td>5.76000</td>\n",
       "      <td>876.0</td>\n",
       "      <td>NaN</td>\n",
       "      <td>NaN</td>\n",
       "      <td>01/01/2023 00:00</td>\n",
       "      <td>01/01/2023 00:00</td>\n",
       "    </tr>\n",
       "    <tr>\n",
       "      <th>...</th>\n",
       "      <td>...</td>\n",
       "      <td>...</td>\n",
       "      <td>...</td>\n",
       "      <td>...</td>\n",
       "      <td>...</td>\n",
       "      <td>...</td>\n",
       "      <td>...</td>\n",
       "      <td>...</td>\n",
       "      <td>...</td>\n",
       "      <td>...</td>\n",
       "    </tr>\n",
       "    <tr>\n",
       "      <th>199303</th>\n",
       "      <td>199304</td>\n",
       "      <td>40.24</td>\n",
       "      <td>20004</td>\n",
       "      <td>20011</td>\n",
       "      <td>9.63000</td>\n",
       "      <td>3024.0</td>\n",
       "      <td>38.895463</td>\n",
       "      <td>-77.021917</td>\n",
       "      <td>12/31/2023 23:00</td>\n",
       "      <td>01/01/2024 00:00</td>\n",
       "    </tr>\n",
       "    <tr>\n",
       "      <th>199304</th>\n",
       "      <td>199305</td>\n",
       "      <td>10.00</td>\n",
       "      <td>20002</td>\n",
       "      <td>20002</td>\n",
       "      <td>0.00000</td>\n",
       "      <td>106.0</td>\n",
       "      <td>38.901547</td>\n",
       "      <td>-76.979938</td>\n",
       "      <td>12/31/2023 23:00</td>\n",
       "      <td>12/31/2023 23:00</td>\n",
       "    </tr>\n",
       "    <tr>\n",
       "      <th>199305</th>\n",
       "      <td>199306</td>\n",
       "      <td>12.47</td>\n",
       "      <td>20002</td>\n",
       "      <td>20037</td>\n",
       "      <td>2.73000</td>\n",
       "      <td>1078.0</td>\n",
       "      <td>38.897204</td>\n",
       "      <td>-77.008388</td>\n",
       "      <td>12/31/2023 23:00</td>\n",
       "      <td>12/31/2023 23:00</td>\n",
       "    </tr>\n",
       "    <tr>\n",
       "      <th>199306</th>\n",
       "      <td>199307</td>\n",
       "      <td>15.67</td>\n",
       "      <td>20002</td>\n",
       "      <td>20010</td>\n",
       "      <td>3.54000</td>\n",
       "      <td>1269.0</td>\n",
       "      <td>38.897204</td>\n",
       "      <td>-77.008388</td>\n",
       "      <td>12/31/2023 23:00</td>\n",
       "      <td>01/01/2024 00:00</td>\n",
       "    </tr>\n",
       "    <tr>\n",
       "      <th>199307</th>\n",
       "      <td>199308</td>\n",
       "      <td>NaN</td>\n",
       "      <td>20005</td>\n",
       "      <td>20009</td>\n",
       "      <td>0.97884</td>\n",
       "      <td>9.0</td>\n",
       "      <td>38.909652</td>\n",
       "      <td>-77.033254</td>\n",
       "      <td>12/31/2023 23:00</td>\n",
       "      <td>12/31/2023 23:00</td>\n",
       "    </tr>\n",
       "  </tbody>\n",
       "</table>\n",
       "<p>3092555 rows × 10 columns</p>\n",
       "</div>"
      ],
      "text/plain": [
       "        OBJECTID  FAREAMOUNT ORIGINZIP DESTINATIONZIP  MILEAGE  DURATION  \\\n",
       "0              1       15.79     2DA            22202  5.76000     852.0   \n",
       "1              2       10.81     20011          20011  3.11000     650.0   \n",
       "2              3       13.51     20001          20007  4.80000     539.0   \n",
       "3              4       12.97     20005          20024  2.68000    1187.0   \n",
       "4              5       16.48     20001          20002  5.76000     876.0   \n",
       "...          ...         ...       ...            ...      ...       ...   \n",
       "199303    199304       40.24     20004          20011  9.63000    3024.0   \n",
       "199304    199305       10.00     20002          20002  0.00000     106.0   \n",
       "199305    199306       12.47     20002          20037  2.73000    1078.0   \n",
       "199306    199307       15.67     20002          20010  3.54000    1269.0   \n",
       "199307    199308         NaN     20005          20009  0.97884       9.0   \n",
       "\n",
       "        ORIGIN_BLOCK_LATITUDE  ORIGIN_BLOCK_LONGITUDE ORIGINDATETIME_TR  \\\n",
       "0                   38.896733              -77.009058  01/01/2023 00:00   \n",
       "1                   38.952536              -77.003107  01/01/2023 00:00   \n",
       "2                         NaN                     NaN  01/01/2023 00:00   \n",
       "3                   38.901925              -77.033638  01/01/2023 00:00   \n",
       "4                         NaN                     NaN  01/01/2023 00:00   \n",
       "...                       ...                     ...               ...   \n",
       "199303              38.895463              -77.021917  12/31/2023 23:00   \n",
       "199304              38.901547              -76.979938  12/31/2023 23:00   \n",
       "199305              38.897204              -77.008388  12/31/2023 23:00   \n",
       "199306              38.897204              -77.008388  12/31/2023 23:00   \n",
       "199307              38.909652              -77.033254  12/31/2023 23:00   \n",
       "\n",
       "       DESTINATIONDATETIME_TR  \n",
       "0            01/01/2023 00:00  \n",
       "1            01/01/2023 00:00  \n",
       "2            01/01/2023 00:00  \n",
       "3            01/01/2023 00:00  \n",
       "4            01/01/2023 00:00  \n",
       "...                       ...  \n",
       "199303       01/01/2024 00:00  \n",
       "199304       12/31/2023 23:00  \n",
       "199305       12/31/2023 23:00  \n",
       "199306       01/01/2024 00:00  \n",
       "199307       12/31/2023 23:00  \n",
       "\n",
       "[3092555 rows x 10 columns]"
      ]
     },
     "execution_count": 56,
     "metadata": {},
     "output_type": "execute_result"
    }
   ],
   "source": [
    "# combine multiple dataframes into one and preview data\n",
    "taxi_trips = pd.concat(all_dfs)\n",
    "\n",
    "rows, columns = taxi_trips.shape\n",
    "print('rows: {:,}\\ncolumns: {}'.format(rows, columns))\n",
    "\n",
    "taxi_trips"
   ]
  },
  {
   "cell_type": "markdown",
   "metadata": {},
   "source": [
    "# 4. Inspect and Clean Data for Geospatial Analysis"
   ]
  },
  {
   "cell_type": "markdown",
   "metadata": {},
   "source": [
    "Calculate percentage of nulls by column and drop records with null location fields (latitude/longitude). "
   ]
  },
  {
   "cell_type": "code",
   "execution_count": 57,
   "metadata": {},
   "outputs": [
    {
     "name": "stdout",
     "output_type": "stream",
     "text": [
      "OBJECTID                   0.000000\n",
      "FAREAMOUNT                 7.336038\n",
      "ORIGINZIP                  0.000000\n",
      "DESTINATIONZIP             0.000000\n",
      "MILEAGE                    0.000000\n",
      "DURATION                   0.000776\n",
      "ORIGIN_BLOCK_LATITUDE     16.198063\n",
      "ORIGIN_BLOCK_LONGITUDE    16.198063\n",
      "ORIGINDATETIME_TR          0.000000\n",
      "DESTINATIONDATETIME_TR     0.000000\n",
      "dtype: float64\n"
     ]
    }
   ],
   "source": [
    "# find missing values, shown as percentage\n",
    "print((taxi_trips.isnull().sum()/len(taxi_trips.index))*100)"
   ]
  },
  {
   "cell_type": "code",
   "execution_count": 58,
   "metadata": {},
   "outputs": [],
   "source": [
    "# drop records with NA values for columns that will be used for analysis\n",
    "taxi_trips.dropna(subset=['ORIGIN_BLOCK_LATITUDE', 'ORIGIN_BLOCK_LONGITUDE'], inplace=True)"
   ]
  },
  {
   "cell_type": "code",
   "execution_count": 59,
   "metadata": {},
   "outputs": [
    {
     "name": "stdout",
     "output_type": "stream",
     "text": [
      "OBJECTID                  0.000000\n",
      "FAREAMOUNT                7.613613\n",
      "ORIGINZIP                 0.000000\n",
      "DESTINATIONZIP            0.000000\n",
      "MILEAGE                   0.000000\n",
      "DURATION                  0.000887\n",
      "ORIGIN_BLOCK_LATITUDE     0.000000\n",
      "ORIGIN_BLOCK_LONGITUDE    0.000000\n",
      "ORIGINDATETIME_TR         0.000000\n",
      "DESTINATIONDATETIME_TR    0.000000\n",
      "dtype: float64\n"
     ]
    }
   ],
   "source": [
    "# confirm rows with missing values were dropped\n",
    "print((taxi_trips.isnull().sum()/len(taxi_trips.index))*100)"
   ]
  },
  {
   "cell_type": "markdown",
   "metadata": {},
   "source": [
    "# 5. Transform Data for Temporal Analysis\n",
    "\n",
    "## 5.1 Convert Timestamp Field to Date Time Format"
   ]
  },
  {
   "cell_type": "code",
   "execution_count": 60,
   "metadata": {},
   "outputs": [
    {
     "data": {
      "text/plain": [
       "OBJECTID                           int64\n",
       "FAREAMOUNT                       float64\n",
       "ORIGINZIP                         object\n",
       "DESTINATIONZIP                    object\n",
       "MILEAGE                          float64\n",
       "DURATION                         float64\n",
       "ORIGIN_BLOCK_LATITUDE            float64\n",
       "ORIGIN_BLOCK_LONGITUDE           float64\n",
       "ORIGINDATETIME_TR                 object\n",
       "DESTINATIONDATETIME_TR            object\n",
       "pickup_dt                 datetime64[ns]\n",
       "dtype: object"
      ]
     },
     "execution_count": 60,
     "metadata": {},
     "output_type": "execute_result"
    }
   ],
   "source": [
    "# convert pickup timestamp to datetime column and add month and hour columns\n",
    "taxi_trips['pickup_dt'] = pd.to_datetime(taxi_trips['ORIGINDATETIME_TR']) \n",
    "\n",
    "taxi_trips.dtypes"
   ]
  },
  {
   "cell_type": "markdown",
   "metadata": {},
   "source": [
    "## 5.2 Extract Date and Time Dimensions"
   ]
  },
  {
   "cell_type": "code",
   "execution_count": 61,
   "metadata": {},
   "outputs": [
    {
     "data": {
      "text/html": [
       "<div>\n",
       "<style scoped>\n",
       "    .dataframe tbody tr th:only-of-type {\n",
       "        vertical-align: middle;\n",
       "    }\n",
       "\n",
       "    .dataframe tbody tr th {\n",
       "        vertical-align: top;\n",
       "    }\n",
       "\n",
       "    .dataframe thead th {\n",
       "        text-align: right;\n",
       "    }\n",
       "</style>\n",
       "<table border=\"1\" class=\"dataframe\">\n",
       "  <thead>\n",
       "    <tr style=\"text-align: right;\">\n",
       "      <th></th>\n",
       "      <th>OBJECTID</th>\n",
       "      <th>FAREAMOUNT</th>\n",
       "      <th>ORIGINZIP</th>\n",
       "      <th>DESTINATIONZIP</th>\n",
       "      <th>MILEAGE</th>\n",
       "      <th>DURATION</th>\n",
       "      <th>ORIGIN_BLOCK_LATITUDE</th>\n",
       "      <th>ORIGIN_BLOCK_LONGITUDE</th>\n",
       "      <th>ORIGINDATETIME_TR</th>\n",
       "      <th>DESTINATIONDATETIME_TR</th>\n",
       "      <th>pickup_dt</th>\n",
       "      <th>pickup_est</th>\n",
       "      <th>hour</th>\n",
       "      <th>weekday_name</th>\n",
       "      <th>weekday_num</th>\n",
       "      <th>month</th>\n",
       "    </tr>\n",
       "  </thead>\n",
       "  <tbody>\n",
       "    <tr>\n",
       "      <th>0</th>\n",
       "      <td>1</td>\n",
       "      <td>15.79</td>\n",
       "      <td>2DA</td>\n",
       "      <td>22202</td>\n",
       "      <td>5.760000</td>\n",
       "      <td>852.0</td>\n",
       "      <td>38.896733</td>\n",
       "      <td>-77.009058</td>\n",
       "      <td>01/01/2023 00:00</td>\n",
       "      <td>01/01/2023 00:00</td>\n",
       "      <td>2023-01-01</td>\n",
       "      <td>2022-12-31 19:00:00-05:00</td>\n",
       "      <td>19</td>\n",
       "      <td>Saturday</td>\n",
       "      <td>5</td>\n",
       "      <td>12</td>\n",
       "    </tr>\n",
       "    <tr>\n",
       "      <th>1</th>\n",
       "      <td>2</td>\n",
       "      <td>10.81</td>\n",
       "      <td>20011</td>\n",
       "      <td>20011</td>\n",
       "      <td>3.110000</td>\n",
       "      <td>650.0</td>\n",
       "      <td>38.952536</td>\n",
       "      <td>-77.003107</td>\n",
       "      <td>01/01/2023 00:00</td>\n",
       "      <td>01/01/2023 00:00</td>\n",
       "      <td>2023-01-01</td>\n",
       "      <td>2022-12-31 19:00:00-05:00</td>\n",
       "      <td>19</td>\n",
       "      <td>Saturday</td>\n",
       "      <td>5</td>\n",
       "      <td>12</td>\n",
       "    </tr>\n",
       "    <tr>\n",
       "      <th>3</th>\n",
       "      <td>4</td>\n",
       "      <td>12.97</td>\n",
       "      <td>20005</td>\n",
       "      <td>20024</td>\n",
       "      <td>2.680000</td>\n",
       "      <td>1187.0</td>\n",
       "      <td>38.901925</td>\n",
       "      <td>-77.033638</td>\n",
       "      <td>01/01/2023 00:00</td>\n",
       "      <td>01/01/2023 00:00</td>\n",
       "      <td>2023-01-01</td>\n",
       "      <td>2022-12-31 19:00:00-05:00</td>\n",
       "      <td>19</td>\n",
       "      <td>Saturday</td>\n",
       "      <td>5</td>\n",
       "      <td>12</td>\n",
       "    </tr>\n",
       "    <tr>\n",
       "      <th>5</th>\n",
       "      <td>6</td>\n",
       "      <td>5.14</td>\n",
       "      <td>20008</td>\n",
       "      <td>20036</td>\n",
       "      <td>0.540000</td>\n",
       "      <td>254.0</td>\n",
       "      <td>38.917417</td>\n",
       "      <td>-77.048261</td>\n",
       "      <td>01/01/2023 00:00</td>\n",
       "      <td>01/01/2023 00:00</td>\n",
       "      <td>2023-01-01</td>\n",
       "      <td>2022-12-31 19:00:00-05:00</td>\n",
       "      <td>19</td>\n",
       "      <td>Saturday</td>\n",
       "      <td>5</td>\n",
       "      <td>12</td>\n",
       "    </tr>\n",
       "    <tr>\n",
       "      <th>6</th>\n",
       "      <td>7</td>\n",
       "      <td>NaN</td>\n",
       "      <td>20003</td>\n",
       "      <td>20002</td>\n",
       "      <td>2.161737</td>\n",
       "      <td>14.0</td>\n",
       "      <td>38.876481</td>\n",
       "      <td>-77.002497</td>\n",
       "      <td>01/01/2023 00:00</td>\n",
       "      <td>01/01/2023 00:00</td>\n",
       "      <td>2023-01-01</td>\n",
       "      <td>2022-12-31 19:00:00-05:00</td>\n",
       "      <td>19</td>\n",
       "      <td>Saturday</td>\n",
       "      <td>5</td>\n",
       "      <td>12</td>\n",
       "    </tr>\n",
       "  </tbody>\n",
       "</table>\n",
       "</div>"
      ],
      "text/plain": [
       "   OBJECTID  FAREAMOUNT ORIGINZIP DESTINATIONZIP   MILEAGE  DURATION  \\\n",
       "0         1       15.79     2DA            22202  5.760000     852.0   \n",
       "1         2       10.81     20011          20011  3.110000     650.0   \n",
       "3         4       12.97     20005          20024  2.680000    1187.0   \n",
       "5         6        5.14     20008          20036  0.540000     254.0   \n",
       "6         7         NaN     20003          20002  2.161737      14.0   \n",
       "\n",
       "   ORIGIN_BLOCK_LATITUDE  ORIGIN_BLOCK_LONGITUDE ORIGINDATETIME_TR  \\\n",
       "0              38.896733              -77.009058  01/01/2023 00:00   \n",
       "1              38.952536              -77.003107  01/01/2023 00:00   \n",
       "3              38.901925              -77.033638  01/01/2023 00:00   \n",
       "5              38.917417              -77.048261  01/01/2023 00:00   \n",
       "6              38.876481              -77.002497  01/01/2023 00:00   \n",
       "\n",
       "  DESTINATIONDATETIME_TR  pickup_dt                pickup_est  hour  \\\n",
       "0       01/01/2023 00:00 2023-01-01 2022-12-31 19:00:00-05:00    19   \n",
       "1       01/01/2023 00:00 2023-01-01 2022-12-31 19:00:00-05:00    19   \n",
       "3       01/01/2023 00:00 2023-01-01 2022-12-31 19:00:00-05:00    19   \n",
       "5       01/01/2023 00:00 2023-01-01 2022-12-31 19:00:00-05:00    19   \n",
       "6       01/01/2023 00:00 2023-01-01 2022-12-31 19:00:00-05:00    19   \n",
       "\n",
       "  weekday_name  weekday_num  month  \n",
       "0     Saturday            5     12  \n",
       "1     Saturday            5     12  \n",
       "3     Saturday            5     12  \n",
       "5     Saturday            5     12  \n",
       "6     Saturday            5     12  "
      ]
     },
     "execution_count": 61,
     "metadata": {},
     "output_type": "execute_result"
    }
   ],
   "source": [
    "# convert UTC date time column to local time zone\n",
    "taxi_trips[\"pickup_est\"] = (\n",
    "    taxi_trips[\"pickup_dt\"].dt.tz_localize(\"UTC\").dt.tz_convert(\"US/Eastern\")\n",
    ")\n",
    "\n",
    "# extract hour, weekday name, and weekday number in local time zone\n",
    "taxi_trips[\"hour\"] = pd.DatetimeIndex(taxi_trips[\"pickup_est\"]).hour\n",
    "\n",
    "taxi_trips[\"weekday_name\"] = pd.DatetimeIndex(taxi_trips[\"pickup_est\"]).day_name()\n",
    "\n",
    "taxi_trips[\"weekday_num\"] = taxi_trips[\"pickup_est\"].dt.dayofweek\n",
    "\n",
    "taxi_trips[\"month\"] = pd.DatetimeIndex(taxi_trips[\"pickup_est\"]).month\n",
    "\n",
    "taxi_trips.head()"
   ]
  },
  {
   "cell_type": "markdown",
   "metadata": {},
   "source": [
    "# 6. Create Mapping to Reveal Spatial Trends"
   ]
  },
  {
   "cell_type": "markdown",
   "metadata": {},
   "source": [
    "## 6.1 Map Long trips for a Single Month"
   ]
  },
  {
   "cell_type": "markdown",
   "metadata": {},
   "source": [
    "Extract a single month to reduce the amount of geoprocessing required and create a new dataframe with trips that were 25 miles or longer. \n",
    "\n",
    "Create a point geometry column using the Geopandas library. "
   ]
  },
  {
   "cell_type": "code",
   "execution_count": 62,
   "metadata": {},
   "outputs": [
    {
     "name": "stdout",
     "output_type": "stream",
     "text": [
      "   level_0  index  OBJECTID  FAREAMOUNT ORIGINZIP DESTINATIONZIP    MILEAGE  \\\n",
      "0       33    978       979       64.81     20005          20166  27.690000   \n",
      "1      168   1120      1121       76.69     20009          22026  33.110000   \n",
      "2      198   1150      1151         NaN     20005          21231  37.053134   \n",
      "3      224   1177      1178       69.67     20002          20879  29.870000   \n",
      "4      240   1193      1194       64.27     20005          20166  27.280000   \n",
      "\n",
      "   DURATION  ORIGIN_BLOCK_LATITUDE  ORIGIN_BLOCK_LONGITUDE ORIGINDATETIME_TR  \\\n",
      "0    2177.0              38.910043              -77.030117  10/01/2023 04:00   \n",
      "1    2881.0              38.914462              -77.031953  10/01/2023 05:00   \n",
      "2      71.0              38.904572              -77.028851  10/01/2023 05:00   \n",
      "3    2623.0              38.896881              -77.006479  10/01/2023 05:00   \n",
      "4    2196.0              38.910043              -77.030117  10/01/2023 06:00   \n",
      "\n",
      "  DESTINATIONDATETIME_TR           pickup_dt                pickup_est  hour  \\\n",
      "0       10/01/2023 05:00 2023-10-01 04:00:00 2023-10-01 00:00:00-04:00     0   \n",
      "1       10/01/2023 06:00 2023-10-01 05:00:00 2023-10-01 01:00:00-04:00     1   \n",
      "2       10/01/2023 06:00 2023-10-01 05:00:00 2023-10-01 01:00:00-04:00     1   \n",
      "3       10/01/2023 06:00 2023-10-01 05:00:00 2023-10-01 01:00:00-04:00     1   \n",
      "4       10/01/2023 07:00 2023-10-01 06:00:00 2023-10-01 02:00:00-04:00     2   \n",
      "\n",
      "  weekday_name  weekday_num  month                    geometry  \n",
      "0       Sunday            6     10  POINT (-77.03012 38.91004)  \n",
      "1       Sunday            6     10  POINT (-77.03195 38.91446)  \n",
      "2       Sunday            6     10  POINT (-77.02885 38.90457)  \n",
      "3       Sunday            6     10  POINT (-77.00648 38.89688)  \n",
      "4       Sunday            6     10  POINT (-77.03012 38.91004)  \n"
     ]
    }
   ],
   "source": [
    "# select single month to reduce geoprocessing\n",
    "trips_by_month = (\n",
    "    taxi_trips[taxi_trips['month'].isin([10])]\n",
    "    .reset_index() \n",
    "    ) \n",
    "\n",
    "# selects trips of 30 or more miles\n",
    "long_trips_by_month = (\n",
    "    trips_by_month[trips_by_month['MILEAGE'] >= 25] \n",
    "    .reset_index()\n",
    "    )\n",
    "\n",
    "# create points column from lat/lon\n",
    "points = gpd.GeoDataFrame(\n",
    "    long_trips_by_month, geometry=gpd.points_from_xy(long_trips_by_month.ORIGIN_BLOCK_LONGITUDE, long_trips_by_month.ORIGIN_BLOCK_LATITUDE), crs=\"EPSG:4326\"\n",
    ")\n",
    "\n",
    "print(points.head())"
   ]
  },
  {
   "cell_type": "code",
   "execution_count": null,
   "metadata": {},
   "outputs": [
    {
     "data": {
      "image/png": "[encoded data removed]",
      "text/plain": [
       "<Figure size 800x800 with 1 Axes>"
      ]
     },
     "metadata": {},
     "output_type": "display_data"
    }
   ],
   "source": [
    "# plot point density map showing where long taxi trips started in October 2023\n",
    "\n",
    "fig, ax = plt.subplots(figsize=(8, 8))\n",
    "\n",
    "# plot DC boundary\n",
    "url = 'https://maps2.dcgis.dc.gov/dcgis/rest/services/DCGIS_DATA/Administrative_Other_Boundaries_WebMercator/MapServer/10/query?outFields=*&where=1%3D1&f=geojson'\n",
    "\n",
    "boundary =  gpd.read_file(url)\n",
    "\n",
    "ax = boundary.plot(\n",
    "    ax=ax, \n",
    "    color=\"white\", \n",
    "    edgecolor=\"black\"\n",
    ")\n",
    "\n",
    "# plot trip points\n",
    "points.plot(\n",
    "    ax=ax, \n",
    "    color=\"red\", \n",
    "    markersize = 5\n",
    ").set_title(\n",
    "    'DC Long Taxi Trips (Oct 2023)',\n",
    "    pad=20,\n",
    "    fontsize=15\n",
    ")\n",
    "ax.axis('off')\n",
    "\n",
    "plt.tight_layout()"
   ]
  },
  {
   "cell_type": "markdown",
   "metadata": {},
   "source": [
    "The concentration of long trips in downtown DC suggests that many trips were taken by those visiting for work or pleasure to regional airports (IAD and BWI). Both airports are approximately 25-30 miles from the city center.  "
   ]
  },
  {
   "cell_type": "markdown",
   "metadata": {},
   "source": [
    "## 6.2 Map Local Late Night Trips by Zip Code"
   ]
  },
  {
   "cell_type": "markdown",
   "metadata": {},
   "source": [
    "Select trips that started between 11pm-2am and were no longer than 10 miles to isolate late night trips that ended near or within DC.  "
   ]
  },
  {
   "cell_type": "code",
   "execution_count": 64,
   "metadata": {},
   "outputs": [],
   "source": [
    "# isolate late-night taxi trips, remove null mileage trips and longer trips over 10 miles\n",
    "latenight_trips= taxi_trips[taxi_trips['hour'].isin([23, 0, 1, 2]) & (taxi_trips['MILEAGE'] != 0) & (taxi_trips['MILEAGE'] <= 10)]\n",
    "\n",
    "# get total number of late-night trips per zip code\n",
    "latenight_trips_hourlytotal = latenight_trips.groupby(['ORIGINZIP']).size() \\\n",
    "    .reset_index() \\\n",
    "    .rename(columns = {0: 'Trip Count'}) "
   ]
  },
  {
   "cell_type": "code",
   "execution_count": 65,
   "metadata": {},
   "outputs": [],
   "source": [
    "# import zip code polygon layer\n",
    "url = 'https://maps2.dcgis.dc.gov/dcgis/rest/services/DCGIS_DATA/Location_WebMercator/FeatureServer/4/query?outFields=*&where=1%3D1&f=geojson'\n",
    "\n",
    "zip_codes =  gpd.read_file(url)\n"
   ]
  },
  {
   "cell_type": "markdown",
   "metadata": {},
   "source": [
    "Join zip code Geopandas dataframe to dataframe with late night taxi data. "
   ]
  },
  {
   "cell_type": "code",
   "execution_count": null,
   "metadata": {},
   "outputs": [],
   "source": [
    "# join zip code polygon layer to count column\n",
    "merge_hourly_latenight = zip_codes.merge(\n",
    "    latenight_trips_hourlytotal,\n",
    "    how='left',\n",
    "    left_on='ZIP_CODE_TEXT',\n",
    "    right_on='ORIGINZIP'\n",
    ")"
   ]
  },
  {
   "cell_type": "code",
   "execution_count": null,
   "metadata": {},
   "outputs": [
    {
     "data": {
      "image/png": "[encoded data removed]",
      "text/plain": [
       "<Figure size 800x800 with 2 Axes>"
      ]
     },
     "metadata": {},
     "output_type": "display_data"
    }
   ],
   "source": [
    "# plot choropleth map showing total late-night trips across zip codes\n",
    "\n",
    "fig, ax = plt.subplots(figsize=(8,8))\n",
    "\n",
    "# resize color scale legend to match plot size\n",
    "divider = make_axes_locatable(ax)\n",
    "cax = divider.append_axes(\"right\", size=\"5%\", pad=0.1)\n",
    "\n",
    "ax.axis('off')\n",
    "\n",
    "merge_hourly_latenight.plot(\n",
    "    column='Trip Count',\n",
    "    ax=ax,\n",
    "    cax=cax,\n",
    "    legend=True\n",
    ").set_title(\n",
    "    'DC Late Night Taxi Trips by Zip Code (2023)',\n",
    "    pad=20,\n",
    "    fontsize=15\n",
    ")\n",
    "\n",
    "plt.tight_layout()"
   ]
  },
  {
   "cell_type": "markdown",
   "metadata": {},
   "source": [
    "Late-night taxi trips are predictably concentrated in nighlife areas, like the 14th Street corridor in the center of the map (extending north from downtown) and also in Georgetown to the west. However, the greatest concentration is in the zip code where Union Station is located -- where many taxi customers arrive via Amtrak regional rail. There are also several popular hotels, restaurants, and bars in proximity to Union Station. "
   ]
  },
  {
   "cell_type": "markdown",
   "metadata": {},
   "source": [
    "# 7. Conclusion\n",
    "This notebook provides a workflow to download a full year of taxi data, load the separate years of data into a single pandas dataframe, and use location data to complete geospatial analysis. "
   ]
  }
 ],
 "metadata": {
  "kernelspec": {
   "display_name": "Python 3",
   "language": "python",
   "name": "python3"
  },
  "language_info": {
   "codemirror_mode": {
    "name": "ipython",
    "version": 3
   },
   "file_extension": ".py",
   "mimetype": "text/x-python",
   "name": "python",
   "nbconvert_exporter": "python",
   "pygments_lexer": "ipython3",
   "version": "3.11.9"
  }
 },
 "nbformat": 4,
 "nbformat_minor": 2
}
